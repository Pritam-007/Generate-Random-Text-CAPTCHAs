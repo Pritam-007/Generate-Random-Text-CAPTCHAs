{
 "cells": [
  {
   "cell_type": "markdown",
   "metadata": {},
   "source": [
    "First, we need to import the ImageFont, ImageDraw, and Image modules from PIL"
   ]
  },
  {
   "cell_type": "code",
   "execution_count": 1,
   "metadata": {},
   "outputs": [],
   "source": [
    "from PIL import ImageFont, ImageDraw, Image"
   ]
  },
  {
   "cell_type": "markdown",
   "metadata": {},
   "source": [
    "Now, we have to create a blank image object. For this, we first need to create a three-dimensional (for the three color channels) numpy zeros array"
   ]
  },
  {
   "cell_type": "code",
   "execution_count": 2,
   "metadata": {},
   "outputs": [],
   "source": [
    "import numpy as np\n",
    "img = np.zeros(shape=(25, 60, 3), dtype=np.uint8)"
   ]
  },
  {
   "cell_type": "markdown",
   "metadata": {},
   "source": [
    "This gives us an array where each element represents a pixel of the image, the size of the image being 60x25 pixels:\n",
    "\n",
    "array([[[0, 0, 0],\n",
    "        [0, 0, 0],\n",
    "        [0, 0, 0],\n",
    "        ...,\n",
    "        [0, 0, 0],\n",
    "        [0, 0, 0],\n",
    "        [0, 0, 0]]], dtype=uint8)"
   ]
  },
  {
   "cell_type": "markdown",
   "metadata": {},
   "source": [
    "To create an image from this array, we call Image’s fromarray() method"
   ]
  },
  {
   "cell_type": "code",
   "execution_count": 3,
   "metadata": {},
   "outputs": [
    {
     "data": {
      "image/png": "[encoded data removed]",
      "text/plain": [
       "<PIL.Image.Image image mode=RGB size=60x25 at 0x24B62577648>"
      ]
     },
     "execution_count": 3,
     "metadata": {},
     "output_type": "execute_result"
    }
   ],
   "source": [
    "img_pil = Image.fromarray(img+123)\n",
    "img_pil"
   ]
  },
  {
   "cell_type": "markdown",
   "metadata": {},
   "source": [
    "The image is black because each pixel has a value of (0, 0, 0), which corresponds to the brightness of the red, green, and blue pixels. Brightness has a value between 0 (darkest) and 255 (brightest). To get a white image, just add 255 to the image array"
   ]
  },
  {
   "cell_type": "code",
   "execution_count": 4,
   "metadata": {},
   "outputs": [
    {
     "data": {
      "image/png": "[encoded data removed]",
      "text/plain": [
       "<PIL.Image.Image image mode=RGB size=60x25 at 0x24B62608888>"
      ]
     },
     "execution_count": 4,
     "metadata": {},
     "output_type": "execute_result"
    }
   ],
   "source": [
    "img_pil = Image.fromarray(img+255)\n",
    "img_pil"
   ]
  },
  {
   "cell_type": "markdown",
   "metadata": {},
   "source": [
    "Now, we need to draw text over our canvas. For this, we first create a drawing interface using ImageDraw's Draw() function on our canvas"
   ]
  },
  {
   "cell_type": "code",
   "execution_count": 5,
   "metadata": {},
   "outputs": [],
   "source": [
    "draw = ImageDraw.Draw(img_pil)"
   ]
  },
  {
   "cell_type": "markdown",
   "metadata": {},
   "source": [
    "Then, we can use Draw’s text() method to write text over the canvas. The draw method takes the following arguments:\n",
    "1. xy: Starting coordinates for the text as a tuple (x, y).\n",
    "2. text: The text to be drawn.\n",
    "3. font: The font to be used. This is a FreeType or OpenType font used by PIL, and this is where ImageFont comes into play.\n",
    "4. fill: The fill color for the text, expressed as (R, G, B).\n",
    "\n",
    "We need to have our font object ready for this. \n",
    "We will use ImageDraw's truetype() function"
   ]
  },
  {
   "cell_type": "code",
   "execution_count": 6,
   "metadata": {},
   "outputs": [],
   "source": [
    "font = ImageFont.truetype(font = 'arial', size=12)"
   ]
  },
  {
   "cell_type": "markdown",
   "metadata": {},
   "source": [
    "We have used the font name, but truetype can also take the font path on the system. We’ll get to this later.\n",
    "\n",
    "Now that we have the font, let us add the text and see what the CAPTCHA looks like"
   ]
  },
  {
   "cell_type": "code",
   "execution_count": 7,
   "metadata": {},
   "outputs": [
    {
     "data": {
      "image/png": "[encoded data removed]",
      "text/plain": [
       "<PIL.Image.Image image mode=RGB size=60x25 at 0x24B62608888>"
      ]
     },
     "execution_count": 7,
     "metadata": {},
     "output_type": "execute_result"
    }
   ],
   "source": [
    "draw.text((5,10), 'Capture', font = font, fill = (0,0,0))\n",
    "img_pil"
   ]
  },
  {
   "cell_type": "markdown",
   "metadata": {},
   "source": [
    "We can also add lines to the image to confuse any robot trying to break into a human-only system!"
   ]
  },
  {
   "cell_type": "code",
   "execution_count": 8,
   "metadata": {},
   "outputs": [
    {
     "data": {
      "image/png": "[encoded data removed]",
      "text/plain": [
       "<PIL.Image.Image image mode=RGB size=60x25 at 0x24B62608888>"
      ]
     },
     "execution_count": 8,
     "metadata": {},
     "output_type": "execute_result"
    }
   ],
   "source": [
    "draw.line([(0,0),(60,25),(0,25),(60,0)], width = 1, fill = (0,0,0))\n",
    "img_pil"
   ]
  },
  {
   "cell_type": "markdown",
   "metadata": {},
   "source": [
    "The tuples indicate the starting and ending pixels of the lines. The first line starts at (0, 0) and ends at (60, 25).\n",
    "A better way to see this is to use OpenCV’s imshow() method, which renders an image from an array"
   ]
  },
  {
   "cell_type": "code",
   "execution_count": 9,
   "metadata": {},
   "outputs": [],
   "source": [
    "import cv2\n",
    "cv2.imshow('Capture',np.array(img_pil))\n",
    "cv2.waitKey() #Displays the image till a key is pressed\n",
    "cv2.destroyAllWindows()"
   ]
  },
  {
   "cell_type": "markdown",
   "metadata": {},
   "source": [
    "Adding Noise\n",
    "\n",
    "Our basic CAPTCHA is now ready, but it looks very clean and readable compared to CAPTCHAs you see online. Let’s add some noise!\n",
    "\n",
    "The easiest way to do this is by randomly adding white and black pixels to the image. This is called salt and pepper noise.\n",
    "\n",
    "First, we have to create an array from our image"
   ]
  },
  {
   "cell_type": "code",
   "execution_count": 10,
   "metadata": {},
   "outputs": [],
   "source": [
    "img = np.array(img_pil)"
   ]
  },
  {
   "cell_type": "markdown",
   "metadata": {},
   "source": [
    "Then, we define a threshold of pixels to be altered. We will keep it at 0.05 (5%). The code to add noise is a simple nested for-loop with a randomly generated number (between 0-1) to determine if noise will be added to the specific pixel"
   ]
  },
  {
   "cell_type": "code",
   "execution_count": 11,
   "metadata": {},
   "outputs": [],
   "source": [
    "import random\n",
    "thresh = 0.05\n",
    "\n",
    "for i in range(img.shape[0]):\n",
    "    for j in range(img.shape[1]):\n",
    "        rdn = random.random()\n",
    "        if rdn < thresh:\n",
    "            img[i][j] = 0\n",
    "        elif rdn > 1-thresh:\n",
    "            img[i][j] = 255"
   ]
  },
  {
   "cell_type": "markdown",
   "metadata": {},
   "source": [
    "Here, if the random number is lower than the threshold (0.05), we make it white. If it’s greater than 0.95, we make it black. Otherwise, we let it remain as is. The output after adding noise looks like this:\n",
    "\n",
    "The pepper noise (black pixels) is pretty evident, but a few pixels on the text that were black earlier are now white (notice the breaks in the lines).\n",
    "\n",
    "We can add more noise by blurring the image, which will make the noise a bit more spread out. With cv2, this is just a one-liner!"
   ]
  },
  {
   "cell_type": "code",
   "execution_count": 12,
   "metadata": {},
   "outputs": [],
   "source": [
    "img_blurred = cv2.blur(img,(2,2))"
   ]
  },
  {
   "cell_type": "markdown",
   "metadata": {},
   "source": [
    "Here, (2,2) is the size of the kernel used to smoothen the image. Read more about it in OpenCV’s documentation"
   ]
  },
  {
   "cell_type": "code",
   "execution_count": 13,
   "metadata": {},
   "outputs": [],
   "source": [
    "size = random.randint(10,16)\n",
    "length = random.randint(4,8)"
   ]
  },
  {
   "cell_type": "markdown",
   "metadata": {},
   "source": [
    "Randomizing Everything!\n",
    "\n",
    "Our basic code is ready… but the “Random” in the “Random Text CAPTCHAs” is missing. Let us randomize most of the things so that each CAPTCHA is truly unique!\n",
    "\n",
    "So, what can be randomized? Well, everything, but we will concentrate on the image size, the text (string, font, font size, color), line position, line color, noise threshold, noise intensity, and blur intensity.\n",
    "\n",
    "The image size will depend on the length of the text and the font size. So we first make a font-size variable and the length of the string:"
   ]
  },
  {
   "cell_type": "code",
   "execution_count": 14,
   "metadata": {},
   "outputs": [],
   "source": [
    "img = np.zeros(((size*2)+5, length*size, 3), np.uint8)"
   ]
  },
  {
   "cell_type": "markdown",
   "metadata": {},
   "source": [
    "Now, to randomize the fonts, we can pick some from the system fonts path using the glob library. I am using only variations of the Arial font."
   ]
  },
  {
   "cell_type": "code",
   "execution_count": 15,
   "metadata": {},
   "outputs": [
    {
     "data": {
      "text/plain": [
       "['C:\\\\Windows\\\\Fonts\\\\arial.ttf',\n",
       " 'C:\\\\Windows\\\\Fonts\\\\arialbd.ttf',\n",
       " 'C:\\\\Windows\\\\Fonts\\\\arialbi.ttf',\n",
       " 'C:\\\\Windows\\\\Fonts\\\\ariali.ttf',\n",
       " 'C:\\\\Windows\\\\Fonts\\\\ARIALN.TTF',\n",
       " 'C:\\\\Windows\\\\Fonts\\\\ARIALNB.TTF',\n",
       " 'C:\\\\Windows\\\\Fonts\\\\ARIALNBI.TTF',\n",
       " 'C:\\\\Windows\\\\Fonts\\\\ARIALNI.TTF',\n",
       " 'C:\\\\Windows\\\\Fonts\\\\ARIALUNI.TTF',\n",
       " 'C:\\\\Windows\\\\Fonts\\\\ariblk.ttf']"
      ]
     },
     "execution_count": 15,
     "metadata": {},
     "output_type": "execute_result"
    }
   ],
   "source": [
    "import glob\n",
    "font_path = r'C:\\Windows\\Fonts'\n",
    "fonts = glob.glob(font_path+'\\\\ari*.ttf')\n",
    "fonts"
   ]
  },
  {
   "cell_type": "markdown",
   "metadata": {},
   "source": [
    "Then we can choose a random font by using random.choice()"
   ]
  },
  {
   "cell_type": "code",
   "execution_count": 16,
   "metadata": {},
   "outputs": [],
   "source": [
    "font = random.choice(fonts)"
   ]
  },
  {
   "cell_type": "markdown",
   "metadata": {},
   "source": [
    "Now to the text. We generate a random sequence of ASCII alphanumeric characters given the length of the string"
   ]
  },
  {
   "cell_type": "code",
   "execution_count": 17,
   "metadata": {},
   "outputs": [],
   "source": [
    "import string\n",
    "text = ''.join(random.choice(string.ascii_uppercase + string.digits + string.ascii_lowercase) for _ in range(length))"
   ]
  },
  {
   "cell_type": "markdown",
   "metadata": {},
   "source": [
    "Since the length is already random, we just call this function by passing length"
   ]
  },
  {
   "cell_type": "code",
   "execution_count": 18,
   "metadata": {},
   "outputs": [
    {
     "name": "stdout",
     "output_type": "stream",
     "text": [
      "6\n",
      "WUuWGT\n"
     ]
    }
   ],
   "source": [
    "from django.utils.crypto import get_random_string\n",
    "print(length)\n",
    "text = get_random_string(length)\n",
    "print(text)"
   ]
  },
  {
   "cell_type": "markdown",
   "metadata": {},
   "source": [
    "For the noise threshold, we can set it to any random value between 1% and 5%"
   ]
  },
  {
   "cell_type": "code",
   "execution_count": 21,
   "metadata": {},
   "outputs": [],
   "source": [
    "thresh = random.randint(1,5)/100"
   ]
  },
  {
   "cell_type": "markdown",
   "metadata": {},
   "source": [
    "For noise intensity, instead of using absolute white and black for salt and pepper pixels, respectively, we can set them to random bright and dark shades"
   ]
  },
  {
   "cell_type": "code",
   "execution_count": 22,
   "metadata": {},
   "outputs": [],
   "source": [
    "for i in range(img.shape[0]):\n",
    "    for j in range(img.shape[1]):\n",
    "        rdn = random.random()\n",
    "        if rdn < thresh:\n",
    "            img[i][j] = random.randint(0,123) #dark pixels\n",
    "        elif rdn > 1-thresh:\n",
    "            img[i][j] = random.randint(123,255) #bright pixels"
   ]
  },
  {
   "cell_type": "markdown",
   "metadata": {},
   "source": [
    "Finally, to control the blur intensity, we can randomize the kernel size from (2, 2) to \n",
    "(int(size/random.randint(5,10)),int(size/random.randint(5,10))). A range between 5 and 10 is chosen as any value less than 5 makes the image too blurred to be legible, while a value greater than 10 doesn’t have much of a blurring effect."
   ]
  },
  {
   "cell_type": "code",
   "execution_count": 23,
   "metadata": {},
   "outputs": [],
   "source": [
    "img = cv2.blur(img,(int(size/7),int(size/7)))"
   ]
  },
  {
   "cell_type": "markdown",
   "metadata": {},
   "source": [
    "Putting It All Together"
   ]
  },
  {
   "cell_type": "code",
   "execution_count": 24,
   "metadata": {},
   "outputs": [],
   "source": [
    "# Setting up the canvas\n",
    "size = random.randint(10,16)\n",
    "length = random.randint(4,8)\n",
    "img = np.zeros(((size*2)+5, length*size, 3), np.uint8)\n",
    "img_pil = Image.fromarray(img+255)\n",
    "\n",
    "# Drawing text and lines\n",
    "font = ImageFont.truetype(random.choice(fonts), size)\n",
    "draw = ImageDraw.Draw(img_pil)\n",
    "text = ''.join(\n",
    "    random.choice(string.ascii_uppercase + string.digits + string.ascii_lowercase) \n",
    "               for _ in range(length))\n",
    "draw.text((5, 10), text, font=font, \n",
    "          fill=(random.randint(0,255), random.randint(0,255), random.randint(0,255)))\n",
    "draw.line([(random.choice(range(length*size)), random.choice(range((size*2)+5)))\n",
    "           ,(random.choice(range(length*size)), random.choice(range((size*2)+5)))]\n",
    "          , width=1, fill=(random.randint(0,255), random.randint(0,255), random.randint(0,255)))\n",
    "\n",
    "# Adding noise and blur\n",
    "img = np.array(img_pil)\n",
    "thresh = random.randint(1,5)/100\n",
    "for i in range(img.shape[0]):\n",
    "    for j in range(img.shape[1]):\n",
    "        rdn = random.random()\n",
    "        if rdn < thresh:\n",
    "            img[i][j] = random.randint(0,123)\n",
    "        elif rdn > 1-thresh:\n",
    "            img[i][j] = random.randint(123,255)\n",
    "img = cv2.blur(img,(int(size/random.randint(5,10)),int(size/random.randint(5,10))))\n",
    "\n",
    "#Displaying image\n",
    "cv2.imshow(f\"{text}\", img)\n",
    "cv2.waitKey()\n",
    "cv2.destroyAllWindows()\n",
    "#cv2.imwrite(f\"{OUTPUT_FOLDER}/{text}.png\", img) #if you want to save the image"
   ]
  },
  {
   "cell_type": "markdown",
   "metadata": {},
   "source": [
    "Applications : -\n",
    "\n",
    "This can be used to generate CAPTCHAs. You can save the images with the text as the filename to be matched. Another novel application can be to generate a large number of labeled images to train your OCR models. Put the code above in a loop, and you’ll get as many images as you want!"
   ]
  },
  {
   "cell_type": "code",
   "execution_count": null,
   "metadata": {},
   "outputs": [],
   "source": [
    "# https://medium.com/better-programming/how-to-generate-random-text-captchas-using-python-e734dd2d7a51"
   ]
  }
 ],
 "metadata": {
  "kernelspec": {
   "display_name": "Python 3",
   "language": "python",
   "name": "python3"
  },
  "language_info": {
   "codemirror_mode": {
    "name": "ipython",
    "version": 3
   },
   "file_extension": ".py",
   "mimetype": "text/x-python",
   "name": "python",
   "nbconvert_exporter": "python",
   "pygments_lexer": "ipython3",
   "version": "3.7.8"
  }
 },
 "nbformat": 4,
 "nbformat_minor": 4
}
